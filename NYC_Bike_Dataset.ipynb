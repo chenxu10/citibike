{
 "cells": [
  {
   "cell_type": "code",
   "execution_count": 2,
   "metadata": {
    "collapsed": true
   },
   "outputs": [],
   "source": [
    "import numpy as np\n",
    "import pandas as pd\n",
    "import matplotlib.pyplot as plt\n",
    "%matplotlib inline"
   ]
  },
  {
   "cell_type": "code",
   "execution_count": 29,
   "metadata": {
    "collapsed": true
   },
   "outputs": [],
   "source": [
    "# import the datasets as data frame"
   ]
  },
  {
   "cell_type": "code",
   "execution_count": 3,
   "metadata": {
    "collapsed": true
   },
   "outputs": [],
   "source": [
    "cb1=pd.DataFrame(pd.read_csv(\"E:/DataArtist/201707-citibike-tripdata.csv/201707-citibike-tripdata.csv\"))"
   ]
  },
  {
   "cell_type": "code",
   "execution_count": 31,
   "metadata": {
    "collapsed": true
   },
   "outputs": [],
   "source": [
    "# calculate the size of the dataframe"
   ]
  },
  {
   "cell_type": "code",
   "execution_count": 4,
   "metadata": {},
   "outputs": [
    {
     "data": {
      "text/plain": [
       "(1048575, 15)"
      ]
     },
     "execution_count": 4,
     "metadata": {},
     "output_type": "execute_result"
    }
   ],
   "source": [
    "cb1.shape"
   ]
  },
  {
   "cell_type": "code",
   "execution_count": 5,
   "metadata": {},
   "outputs": [
    {
     "data": {
      "text/plain": [
       "619"
      ]
     },
     "execution_count": 5,
     "metadata": {},
     "output_type": "execute_result"
    }
   ],
   "source": [
    "# the location of the rent \n",
    "len(cb1['start station name'].unique())"
   ]
  },
  {
   "cell_type": "code",
   "execution_count": 35,
   "metadata": {
    "collapsed": true
   },
   "outputs": [],
   "source": [
    "# the average time of per rent"
   ]
  },
  {
   "cell_type": "code",
   "execution_count": 6,
   "metadata": {},
   "outputs": [
    {
     "data": {
      "text/plain": [
       "18.652502110006438"
      ]
     },
     "execution_count": 6,
     "metadata": {},
     "output_type": "execute_result"
    }
   ],
   "source": [
    "cb1['tripduration'].sum()/cb1['bikeid'].count()/60\n",
    "# 18 minutes per rent"
   ]
  },
  {
   "cell_type": "code",
   "execution_count": 7,
   "metadata": {},
   "outputs": [
    {
     "data": {
      "text/plain": [
       "9922"
      ]
     },
     "execution_count": 7,
     "metadata": {},
     "output_type": "execute_result"
    }
   ],
   "source": [
    "# the number of unique id\n",
    "len(cb1['bikeid'].unique())"
   ]
  },
  {
   "cell_type": "code",
   "execution_count": 38,
   "metadata": {
    "collapsed": true
   },
   "outputs": [],
   "source": [
    "# the number riding times"
   ]
  },
  {
   "cell_type": "code",
   "execution_count": 8,
   "metadata": {},
   "outputs": [
    {
     "data": {
      "text/plain": [
       "1048575"
      ]
     },
     "execution_count": 8,
     "metadata": {},
     "output_type": "execute_result"
    }
   ],
   "source": [
    "cb1['starttime'].count()"
   ]
  },
  {
   "cell_type": "code",
   "execution_count": 40,
   "metadata": {
    "collapsed": true
   },
   "outputs": [],
   "source": [
    "# the time of bike being rented "
   ]
  },
  {
   "cell_type": "code",
   "execution_count": 9,
   "metadata": {},
   "outputs": [
    {
     "data": {
      "text/plain": [
       "105.68181818181819"
      ]
     },
     "execution_count": 9,
     "metadata": {},
     "output_type": "execute_result"
    }
   ],
   "source": [
    "cb1['bikeid'].count()/len(cb1['bikeid'].unique())"
   ]
  },
  {
   "cell_type": "code",
   "execution_count": 10,
   "metadata": {
    "collapsed": true
   },
   "outputs": [],
   "source": [
    "# the number of frequency everyday and everytime"
   ]
  },
  {
   "cell_type": "code",
   "execution_count": 43,
   "metadata": {},
   "outputs": [
    {
     "data": {
      "text/plain": [
       "0.28953922789539227"
      ]
     },
     "execution_count": 43,
     "metadata": {},
     "output_type": "execute_result"
    }
   ],
   "source": [
    "cb1['bikeid'].count()/len(cb1['bikeid'].unique())/365"
   ]
  },
  {
   "cell_type": "markdown",
   "metadata": {
    "collapsed": true
   },
   "source": [
    "What's the demographic information of the users in bike datasets?"
   ]
  },
  {
   "cell_type": "code",
   "execution_count": 12,
   "metadata": {},
   "outputs": [
    {
     "data": {
      "text/plain": [
       "gender\n",
       "0    13.957800\n",
       "1    62.898314\n",
       "2    23.143886\n",
       "Name: bikeid, dtype: float64"
      ]
     },
     "execution_count": 12,
     "metadata": {},
     "output_type": "execute_result"
    }
   ],
   "source": [
    "user_gender=cb1.groupby('gender')['bikeid'].agg(len)/cb1['bikeid'].count()*100\n",
    "user_gender"
   ]
  },
  {
   "cell_type": "code",
   "execution_count": 13,
   "metadata": {
    "collapsed": true
   },
   "outputs": [],
   "source": [
    "colors=['green','orange','blue']"
   ]
  },
  {
   "cell_type": "code",
   "execution_count": 14,
   "metadata": {
    "collapsed": true
   },
   "outputs": [],
   "source": [
    "name=['unknow','male','female']"
   ]
  },
  {
   "cell_type": "markdown",
   "metadata": {},
   "source": [
    "Barplot of gender distribution"
   ]
  },
  {
   "cell_type": "code",
   "execution_count": 15,
   "metadata": {},
   "outputs": [
    {
     "data": {
      "text/plain": [
       "<matplotlib.text.Text at 0x24311a15a20>"
      ]
     },
     "execution_count": 15,
     "metadata": {},
     "output_type": "execute_result"
    },
    {
     "data": {
      "image/png": "[encoded data removed]",
      "text/plain": [
       "<matplotlib.figure.Figure at 0x243117ed1d0>"
      ]
     },
     "metadata": {},
     "output_type": "display_data"
    }
   ],
   "source": [
    "plt.rc('font', family='STXihei', size=12)\n",
    "plt.pie(user_gender,labels=name,colors=colors,explode=(0,0,0),shadow=True,startangle=60,autopct='%1.1f%%')\n",
    "plt.axis('equal')\n",
    "# pie is drawn as a circle \n",
    "plt.title(\"The Gender Distrbution of Citi Bike Users\")\n",
    "# The conclusion: distribution is 3 to 1 "
   ]
  },
  {
   "cell_type": "markdown",
   "metadata": {},
   "source": [
    "Age distribution of users"
   ]
  },
  {
   "cell_type": "code",
   "execution_count": 17,
   "metadata": {},
   "outputs": [
    {
     "data": {
      "text/plain": [
       "count    906055.000000\n",
       "mean       1979.564352\n",
       "std          11.582321\n",
       "min        1885.000000\n",
       "25%        1972.000000\n",
       "50%        1983.000000\n",
       "75%        1989.000000\n",
       "max        2001.000000\n",
       "Name: birth year, dtype: float64"
      ]
     },
     "execution_count": 17,
     "metadata": {},
     "output_type": "execute_result"
    }
   ],
   "source": [
    "cb1['birth year'].describe()"
   ]
  },
  {
   "cell_type": "code",
   "execution_count": 18,
   "metadata": {
    "collapsed": true
   },
   "outputs": [],
   "source": [
    "cb1['age']=2017-cb1['birth year']"
   ]
  },
  {
   "cell_type": "code",
   "execution_count": 19,
   "metadata": {
    "scrolled": true
   },
   "outputs": [
    {
     "data": {
      "text/plain": [
       "<matplotlib.legend.Legend at 0x243112aa320>"
      ]
     },
     "execution_count": 19,
     "metadata": {},
     "output_type": "execute_result"
    },
    {
     "data": {
      "image/png": "[encoded data removed]",
      "text/plain": [
       "<matplotlib.figure.Figure at 0x2431188cc88>"
      ]
     },
     "metadata": {},
     "output_type": "display_data"
    }
   ],
   "source": [
    "bins=[0,18,30,50,100]\n",
    "group_age=[\"Teenage\",\"Adult\",\"MiddleAge\",\"SeniorCitizen\"]\n",
    "cb1['group_age']=pd.cut(cb1['age'],bins,labels=group_age)\n",
    "# user groupby\n",
    "user_age=cb1.groupby('group_age')['group_age'].agg(len)\n",
    "# make a barplots\n",
    "a=np.array([1,2,3,4])\n",
    "plt.bar([1,2,3,4],user_age,alpha=1,align='center',edgecolor='black')\n",
    "# make titles \n",
    "plt.title(\"The Age Distribution of Citi Users\")\n",
    "plt.ylabel(\"Renting Times\")\n",
    "plt.xlabel(\"The Age Group\")\n",
    "plt.xticks(a,group_age)\n",
    "plt.legend(['Renting Times'],loc=\"upper left\")"
   ]
  },
  {
   "cell_type": "markdown",
   "metadata": {},
   "source": [
    "Customer percentage of all users"
   ]
  },
  {
   "cell_type": "code",
   "execution_count": 22,
   "metadata": {},
   "outputs": [
    {
     "data": {
      "text/plain": [
       "usertype\n",
       "Customer      15.611091\n",
       "Subscriber    84.388909\n",
       "Name: usertype, dtype: float64"
      ]
     },
     "execution_count": 22,
     "metadata": {},
     "output_type": "execute_result"
    }
   ],
   "source": [
    "customerpercent=cb1.groupby('usertype')['usertype'].agg(len)/cb1['usertype'].count()*100\n",
    "customerpercent"
   ]
  },
  {
   "cell_type": "code",
   "execution_count": 21,
   "metadata": {},
   "outputs": [
    {
     "data": {
      "text/plain": [
       "(-1.1065956152449732,\n",
       " 1.1049884330985527,\n",
       " -1.1035220413781492,\n",
       " 1.1052984150049625)"
      ]
     },
     "execution_count": 21,
     "metadata": {},
     "output_type": "execute_result"
    },
    {
     "data": {
      "image/png": "[encoded data removed]",
      "text/plain": [
       "<matplotlib.figure.Figure at 0x243112e4f98>"
      ]
     },
     "metadata": {},
     "output_type": "display_data"
    }
   ],
   "source": [
    "customer_names=[\"Subscriber\",\"Customer\"]\n",
    "plt.pie(customerpercent,labels=customer_names,explode=(0,0),shadow=True,startangle=60)\n",
    "plt.axis('equal')\n",
    "# what's the anual fee customer"
   ]
  },
  {
   "cell_type": "markdown",
   "metadata": {},
   "source": [
    "What's the hottest location?"
   ]
  },
  {
   "cell_type": "code",
   "execution_count": 25,
   "metadata": {
    "collapsed": true
   },
   "outputs": [],
   "source": [
    "toptenloc=pd.pivot_table(cb1,index=[\"start station name\",\"start station latitude\",\"start station longitude\",\n",
    "                                        \"end station name\",\"end station latitude\",\"end station longitude\"],\n",
    "                                         values=['bikeid'],aggfunc=[len],fill_value=0,margins=True).head(10)"
   ]
  },
  {
   "cell_type": "code",
   "execution_count": 26,
   "metadata": {
    "collapsed": true
   },
   "outputs": [],
   "source": [
    "toptendstart=pd.pivot_table(cb1,index=[\"start station name\",\"start station latitude\",\"start station longitude\"],\n",
    "                           values=[\"bikeid\"],aggfunc=[len]).head(20)"
   ]
  },
  {
   "cell_type": "code",
   "execution_count": 27,
   "metadata": {},
   "outputs": [
    {
     "data": {
      "text/html": [
       "<div>\n",
       "<style>\n",
       "    .dataframe thead tr:only-child th {\n",
       "        text-align: right;\n",
       "    }\n",
       "\n",
       "    .dataframe thead th {\n",
       "        text-align: left;\n",
       "    }\n",
       "\n",
       "    .dataframe tbody tr th {\n",
       "        vertical-align: top;\n",
       "    }\n",
       "</style>\n",
       "<table border=\"1\" class=\"dataframe\">\n",
       "  <thead>\n",
       "    <tr>\n",
       "      <th></th>\n",
       "      <th></th>\n",
       "      <th></th>\n",
       "      <th>len</th>\n",
       "    </tr>\n",
       "    <tr>\n",
       "      <th></th>\n",
       "      <th></th>\n",
       "      <th></th>\n",
       "      <th>bikeid</th>\n",
       "    </tr>\n",
       "    <tr>\n",
       "      <th>start station name</th>\n",
       "      <th>start station latitude</th>\n",
       "      <th>start station longitude</th>\n",
       "      <th></th>\n",
       "    </tr>\n",
       "  </thead>\n",
       "  <tbody>\n",
       "    <tr>\n",
       "      <th>1 Ave &amp; E 16 St</th>\n",
       "      <th>40.732219</th>\n",
       "      <th>-73.981656</th>\n",
       "      <td>4150</td>\n",
       "    </tr>\n",
       "    <tr>\n",
       "      <th>1 Ave &amp; E 18 St</th>\n",
       "      <th>40.733812</th>\n",
       "      <th>-73.980544</th>\n",
       "      <td>3017</td>\n",
       "    </tr>\n",
       "    <tr>\n",
       "      <th>1 Ave &amp; E 30 St</th>\n",
       "      <th>40.741444</th>\n",
       "      <th>-73.975361</th>\n",
       "      <td>2712</td>\n",
       "    </tr>\n",
       "    <tr>\n",
       "      <th>1 Ave &amp; E 44 St</th>\n",
       "      <th>40.750020</th>\n",
       "      <th>-73.969053</th>\n",
       "      <td>1841</td>\n",
       "    </tr>\n",
       "    <tr>\n",
       "      <th>1 Ave &amp; E 62 St</th>\n",
       "      <th>40.761227</th>\n",
       "      <th>-73.960940</th>\n",
       "      <td>2619</td>\n",
       "    </tr>\n",
       "    <tr>\n",
       "      <th>1 Ave &amp; E 68 St</th>\n",
       "      <th>40.765005</th>\n",
       "      <th>-73.958185</th>\n",
       "      <td>3257</td>\n",
       "    </tr>\n",
       "    <tr>\n",
       "      <th>1 Ave &amp; E 78 St</th>\n",
       "      <th>40.771404</th>\n",
       "      <th>-73.953517</th>\n",
       "      <td>2430</td>\n",
       "    </tr>\n",
       "    <tr>\n",
       "      <th>1 Ave &amp; E 94 St</th>\n",
       "      <th>40.781721</th>\n",
       "      <th>-73.945940</th>\n",
       "      <td>841</td>\n",
       "    </tr>\n",
       "    <tr>\n",
       "      <th>1 Pl &amp; Clinton St</th>\n",
       "      <th>40.680959</th>\n",
       "      <th>-73.999057</th>\n",
       "      <td>457</td>\n",
       "    </tr>\n",
       "    <tr>\n",
       "      <th>10 Hudson Yards</th>\n",
       "      <th>40.752957</th>\n",
       "      <th>-74.002640</th>\n",
       "      <td>209</td>\n",
       "    </tr>\n",
       "    <tr>\n",
       "      <th>10 St &amp; 5 Ave</th>\n",
       "      <th>40.668627</th>\n",
       "      <th>-73.987001</th>\n",
       "      <td>457</td>\n",
       "    </tr>\n",
       "    <tr>\n",
       "      <th>10 St &amp; 7 Ave</th>\n",
       "      <th>40.666208</th>\n",
       "      <th>-73.981999</th>\n",
       "      <td>641</td>\n",
       "    </tr>\n",
       "    <tr>\n",
       "      <th>11 Ave &amp; W 27 St</th>\n",
       "      <th>40.751396</th>\n",
       "      <th>-74.005226</th>\n",
       "      <td>3862</td>\n",
       "    </tr>\n",
       "    <tr>\n",
       "      <th>11 Ave &amp; W 41 St</th>\n",
       "      <th>40.760301</th>\n",
       "      <th>-73.998842</th>\n",
       "      <td>3112</td>\n",
       "    </tr>\n",
       "    <tr>\n",
       "      <th>11 Ave &amp; W 59 St</th>\n",
       "      <th>40.771522</th>\n",
       "      <th>-73.990541</th>\n",
       "      <td>3018</td>\n",
       "    </tr>\n",
       "    <tr>\n",
       "      <th>12 Ave &amp; W 40 St</th>\n",
       "      <th>40.760875</th>\n",
       "      <th>-74.002777</th>\n",
       "      <td>7765</td>\n",
       "    </tr>\n",
       "    <tr>\n",
       "      <th>12 St &amp; 4 Ave</th>\n",
       "      <th>40.668603</th>\n",
       "      <th>-73.990439</th>\n",
       "      <td>280</td>\n",
       "    </tr>\n",
       "    <tr>\n",
       "      <th>14 St &amp; 5 Ave</th>\n",
       "      <th>40.666287</th>\n",
       "      <th>-73.988951</th>\n",
       "      <td>636</td>\n",
       "    </tr>\n",
       "    <tr>\n",
       "      <th>14 St &amp; 7 Ave</th>\n",
       "      <th>40.663779</th>\n",
       "      <th>-73.983968</th>\n",
       "      <td>664</td>\n",
       "    </tr>\n",
       "    <tr>\n",
       "      <th>2 Ave  &amp; E 104 St</th>\n",
       "      <th>40.789210</th>\n",
       "      <th>-73.943708</th>\n",
       "      <td>507</td>\n",
       "    </tr>\n",
       "  </tbody>\n",
       "</table>\n",
       "</div>"
      ],
      "text/plain": [
       "                                                                     len\n",
       "                                                                  bikeid\n",
       "start station name start station latitude start station longitude       \n",
       "1 Ave & E 16 St    40.732219              -73.981656                4150\n",
       "1 Ave & E 18 St    40.733812              -73.980544                3017\n",
       "1 Ave & E 30 St    40.741444              -73.975361                2712\n",
       "1 Ave & E 44 St    40.750020              -73.969053                1841\n",
       "1 Ave & E 62 St    40.761227              -73.960940                2619\n",
       "1 Ave & E 68 St    40.765005              -73.958185                3257\n",
       "1 Ave & E 78 St    40.771404              -73.953517                2430\n",
       "1 Ave & E 94 St    40.781721              -73.945940                 841\n",
       "1 Pl & Clinton St  40.680959              -73.999057                 457\n",
       "10 Hudson Yards    40.752957              -74.002640                 209\n",
       "10 St & 5 Ave      40.668627              -73.987001                 457\n",
       "10 St & 7 Ave      40.666208              -73.981999                 641\n",
       "11 Ave & W 27 St   40.751396              -74.005226                3862\n",
       "11 Ave & W 41 St   40.760301              -73.998842                3112\n",
       "11 Ave & W 59 St   40.771522              -73.990541                3018\n",
       "12 Ave & W 40 St   40.760875              -74.002777                7765\n",
       "12 St & 4 Ave      40.668603              -73.990439                 280\n",
       "14 St & 5 Ave      40.666287              -73.988951                 636\n",
       "14 St & 7 Ave      40.663779              -73.983968                 664\n",
       "2 Ave  & E 104 St  40.789210              -73.943708                 507"
      ]
     },
     "execution_count": 27,
     "metadata": {},
     "output_type": "execute_result"
    }
   ],
   "source": [
    "toptendstart"
   ]
  },
  {
   "cell_type": "markdown",
   "metadata": {
    "collapsed": true
   },
   "source": [
    " What's the average riding speed of the customer in NYC?"
   ]
  },
  {
   "cell_type": "code",
   "execution_count": 63,
   "metadata": {},
   "outputs": [
    {
     "data": {
      "text/html": [
       "<div>\n",
       "<style>\n",
       "    .dataframe thead tr:only-child th {\n",
       "        text-align: right;\n",
       "    }\n",
       "\n",
       "    .dataframe thead th {\n",
       "        text-align: left;\n",
       "    }\n",
       "\n",
       "    .dataframe tbody tr th {\n",
       "        vertical-align: top;\n",
       "    }\n",
       "</style>\n",
       "<table border=\"1\" class=\"dataframe\">\n",
       "  <thead>\n",
       "    <tr style=\"text-align: right;\">\n",
       "      <th></th>\n",
       "      <th>tripduration</th>\n",
       "      <th>starttime</th>\n",
       "      <th>stoptime</th>\n",
       "      <th>start station id</th>\n",
       "      <th>start station name</th>\n",
       "      <th>start station latitude</th>\n",
       "      <th>start station longitude</th>\n",
       "      <th>end station id</th>\n",
       "      <th>end station name</th>\n",
       "      <th>end station latitude</th>\n",
       "      <th>end station longitude</th>\n",
       "      <th>bikeid</th>\n",
       "      <th>usertype</th>\n",
       "      <th>birth year</th>\n",
       "      <th>gender</th>\n",
       "      <th>age</th>\n",
       "      <th>group_age</th>\n",
       "    </tr>\n",
       "  </thead>\n",
       "  <tbody>\n",
       "    <tr>\n",
       "      <th>0</th>\n",
       "      <td>364</td>\n",
       "      <td>2017/7/1 0:00</td>\n",
       "      <td>2017/7/1 0:06</td>\n",
       "      <td>539</td>\n",
       "      <td>Metropolitan Ave &amp; Bedford Ave</td>\n",
       "      <td>40.715348</td>\n",
       "      <td>-73.960241</td>\n",
       "      <td>3107</td>\n",
       "      <td>Bedford Ave &amp; Nassau Ave</td>\n",
       "      <td>40.723117</td>\n",
       "      <td>-73.952123</td>\n",
       "      <td>14744</td>\n",
       "      <td>Subscriber</td>\n",
       "      <td>1986.0</td>\n",
       "      <td>1</td>\n",
       "      <td>31.0</td>\n",
       "      <td>MiddleAge</td>\n",
       "    </tr>\n",
       "    <tr>\n",
       "      <th>1</th>\n",
       "      <td>2142</td>\n",
       "      <td>2017/7/1 0:00</td>\n",
       "      <td>2017/7/1 0:35</td>\n",
       "      <td>293</td>\n",
       "      <td>Lafayette St &amp; E 8 St</td>\n",
       "      <td>40.730207</td>\n",
       "      <td>-73.991026</td>\n",
       "      <td>3425</td>\n",
       "      <td>2 Ave  &amp; E 104 St</td>\n",
       "      <td>40.789210</td>\n",
       "      <td>-73.943708</td>\n",
       "      <td>19587</td>\n",
       "      <td>Subscriber</td>\n",
       "      <td>1981.0</td>\n",
       "      <td>1</td>\n",
       "      <td>36.0</td>\n",
       "      <td>MiddleAge</td>\n",
       "    </tr>\n",
       "    <tr>\n",
       "      <th>2</th>\n",
       "      <td>328</td>\n",
       "      <td>2017/7/1 0:00</td>\n",
       "      <td>2017/7/1 0:05</td>\n",
       "      <td>3242</td>\n",
       "      <td>Schermerhorn St &amp; Court St</td>\n",
       "      <td>40.691029</td>\n",
       "      <td>-73.991834</td>\n",
       "      <td>3397</td>\n",
       "      <td>Court St &amp; Nelson St</td>\n",
       "      <td>40.676395</td>\n",
       "      <td>-73.998699</td>\n",
       "      <td>27937</td>\n",
       "      <td>Subscriber</td>\n",
       "      <td>1984.0</td>\n",
       "      <td>2</td>\n",
       "      <td>33.0</td>\n",
       "      <td>MiddleAge</td>\n",
       "    </tr>\n",
       "    <tr>\n",
       "      <th>3</th>\n",
       "      <td>2530</td>\n",
       "      <td>2017/7/1 0:00</td>\n",
       "      <td>2017/7/1 0:42</td>\n",
       "      <td>2002</td>\n",
       "      <td>Wythe Ave &amp; Metropolitan Ave</td>\n",
       "      <td>40.716887</td>\n",
       "      <td>-73.963198</td>\n",
       "      <td>398</td>\n",
       "      <td>Atlantic Ave &amp; Furman St</td>\n",
       "      <td>40.691652</td>\n",
       "      <td>-73.999979</td>\n",
       "      <td>26066</td>\n",
       "      <td>Subscriber</td>\n",
       "      <td>1985.0</td>\n",
       "      <td>1</td>\n",
       "      <td>32.0</td>\n",
       "      <td>MiddleAge</td>\n",
       "    </tr>\n",
       "    <tr>\n",
       "      <th>4</th>\n",
       "      <td>2534</td>\n",
       "      <td>2017/7/1 0:00</td>\n",
       "      <td>2017/7/1 0:42</td>\n",
       "      <td>2002</td>\n",
       "      <td>Wythe Ave &amp; Metropolitan Ave</td>\n",
       "      <td>40.716887</td>\n",
       "      <td>-73.963198</td>\n",
       "      <td>398</td>\n",
       "      <td>Atlantic Ave &amp; Furman St</td>\n",
       "      <td>40.691652</td>\n",
       "      <td>-73.999979</td>\n",
       "      <td>29408</td>\n",
       "      <td>Subscriber</td>\n",
       "      <td>1982.0</td>\n",
       "      <td>2</td>\n",
       "      <td>35.0</td>\n",
       "      <td>MiddleAge</td>\n",
       "    </tr>\n",
       "  </tbody>\n",
       "</table>\n",
       "</div>"
      ],
      "text/plain": [
       "   tripduration      starttime       stoptime  start station id  \\\n",
       "0           364  2017/7/1 0:00  2017/7/1 0:06               539   \n",
       "1          2142  2017/7/1 0:00  2017/7/1 0:35               293   \n",
       "2           328  2017/7/1 0:00  2017/7/1 0:05              3242   \n",
       "3          2530  2017/7/1 0:00  2017/7/1 0:42              2002   \n",
       "4          2534  2017/7/1 0:00  2017/7/1 0:42              2002   \n",
       "\n",
       "               start station name  start station latitude  \\\n",
       "0  Metropolitan Ave & Bedford Ave               40.715348   \n",
       "1           Lafayette St & E 8 St               40.730207   \n",
       "2      Schermerhorn St & Court St               40.691029   \n",
       "3    Wythe Ave & Metropolitan Ave               40.716887   \n",
       "4    Wythe Ave & Metropolitan Ave               40.716887   \n",
       "\n",
       "   start station longitude  end station id          end station name  \\\n",
       "0               -73.960241            3107  Bedford Ave & Nassau Ave   \n",
       "1               -73.991026            3425         2 Ave  & E 104 St   \n",
       "2               -73.991834            3397      Court St & Nelson St   \n",
       "3               -73.963198             398  Atlantic Ave & Furman St   \n",
       "4               -73.963198             398  Atlantic Ave & Furman St   \n",
       "\n",
       "   end station latitude  end station longitude  bikeid    usertype  \\\n",
       "0             40.723117             -73.952123   14744  Subscriber   \n",
       "1             40.789210             -73.943708   19587  Subscriber   \n",
       "2             40.676395             -73.998699   27937  Subscriber   \n",
       "3             40.691652             -73.999979   26066  Subscriber   \n",
       "4             40.691652             -73.999979   29408  Subscriber   \n",
       "\n",
       "   birth year  gender   age  group_age  \n",
       "0      1986.0       1  31.0  MiddleAge  \n",
       "1      1981.0       1  36.0  MiddleAge  \n",
       "2      1984.0       2  33.0  MiddleAge  \n",
       "3      1985.0       1  32.0  MiddleAge  \n",
       "4      1982.0       2  35.0  MiddleAge  "
      ]
     },
     "execution_count": 63,
     "metadata": {},
     "output_type": "execute_result"
    }
   ],
   "source": [
    "cb1.head(5)"
   ]
  },
  {
   "cell_type": "code",
   "execution_count": 67,
   "metadata": {
    "collapsed": true
   },
   "outputs": [],
   "source": [
    "from math import radians, cos, sin, asin, sqrt\n",
    "# step: you need to calculate the distance\n",
    "def haversine(lon1,lat1,lon2,lat2):\n",
    "    lon1=map(radians,np.array(lon1))\n",
    "    lat1=map(radians,np.array(lat1))\n",
    "    lon2=map(radians,np.array(lon2))\n",
    "    lat2=map(radians,np.array(lat2))\n",
    "    lon1=np.array(list(lon1)).reshape(-1,1)\n",
    "    lon2=np.array(list(lon2)).reshape(-1,1)\n",
    "    lat1=np.array(list(lat1)).reshape(-1,1)\n",
    "    lat2=np.array(list(lat2)).reshape(-1,1)\n",
    "    dlon=lon2-lon1\n",
    "    dlat=lat2-lat1\n",
    "    # haversine formula\n",
    "    a=np.sin(dlat/2)**2+np.cos(lat1)*np.cos(lat2)*np.sin(dlon/2)**2\n",
    "    c=2*np.arcsin(np.sqrt(a))\n",
    "    r=6371\n",
    "    return c*r*1000\n",
    "\n",
    "cb1[\"meter\"]=haversine(cb1[\"start station longitude\"],cb1[\"start station latitude\"],cb1[\"end station longitude\"],\n",
    "                      cb1[\"end station latitude\"])"
   ]
  },
  {
   "cell_type": "code",
   "execution_count": 68,
   "metadata": {},
   "outputs": [
    {
     "data": {
      "text/plain": [
       "6.0443613522352235"
      ]
     },
     "execution_count": 68,
     "metadata": {},
     "output_type": "execute_result"
    }
   ],
   "source": [
    "cb1[\"duration_hour\"]=cb1[\"tripduration\"]/3600\n",
    "cb1[\"speed\"]=cb1[\"meter\"]/1000/cb1[\"duration_hour\"]\n",
    "km=cb1[\"meter\"].sum()/1000\n",
    "hour=cb1[\"duration_hour\"].sum()\n",
    "speed=km/hour\n",
    "speed"
   ]
  },
  {
   "cell_type": "markdown",
   "metadata": {
    "collapsed": true
   },
   "source": [
    " The change of bike use in a day"
   ]
  },
  {
   "cell_type": "code",
   "execution_count": 70,
   "metadata": {
    "collapsed": true
   },
   "outputs": [],
   "source": [
    "time_split = pd.DataFrame((x.split(' ') for x in cb1.starttime),\n",
    "                          index=cb1.index,columns=['start_date','start_time'])"
   ]
  },
  {
   "cell_type": "code",
   "execution_count": 71,
   "metadata": {
    "collapsed": true
   },
   "outputs": [],
   "source": [
    "cb1=pd.merge(cb1,time_split,right_index=True, left_index=True)"
   ]
  },
  {
   "cell_type": "code",
   "execution_count": 72,
   "metadata": {
    "collapsed": true
   },
   "outputs": [],
   "source": [
    "cb1['start_time']=pd.to_datetime(cb1['start_time'])"
   ]
  },
  {
   "cell_type": "code",
   "execution_count": 73,
   "metadata": {
    "collapsed": true
   },
   "outputs": [],
   "source": [
    "cb1 = cb1.set_index('start_time')"
   ]
  },
  {
   "cell_type": "code",
   "execution_count": 74,
   "metadata": {},
   "outputs": [
    {
     "name": "stderr",
     "output_type": "stream",
     "text": [
      "c:\\users\\thinkpad\\appdata\\local\\programs\\python\\python36\\lib\\site-packages\\ipykernel_launcher.py:1: FutureWarning: how in .resample() is deprecated\n",
      "the new syntax is .resample(...)..apply(<func>)\n",
      "  \"\"\"Entry point for launching an IPython kernel.\n"
     ]
    }
   ],
   "source": [
    "start_hour=cb1.resample('H',how=len)"
   ]
  },
  {
   "cell_type": "code",
   "execution_count": 83,
   "metadata": {
    "collapsed": true
   },
   "outputs": [],
   "source": [
    "x=[datetime.datetime(2017,10,13,0,0,0)+datetime.timedelta(hours=i) for i in range(12)]"
   ]
  },
  {
   "cell_type": "code",
   "execution_count": 90,
   "metadata": {
    "scrolled": true
   },
   "outputs": [
    {
     "data": {
      "image/png": "[encoded data removed]",
      "text/plain": [
       "<matplotlib.figure.Figure at 0x2b6662d8c50>"
      ]
     },
     "metadata": {},
     "output_type": "display_data"
    }
   ],
   "source": [
    "import datetime\n",
    "import matplotlib.dates as mdates\n",
    "fig,ax=plt.subplots(1)\n",
    "ride_hour=start_hour[\"bikeid\"]\n",
    "x=[datetime.datetime(2017,10,13,0,0,0)+datetime.timedelta(hours=i) for i in range(12)]\n",
    "plt.plot(ride_hour,'8',ride_hour,'g-',color='blue',linewidth=3,\n",
    "        markeredgewidth=3,markeredgecolor='blue',alpha=0.8)\n",
    "plt.xlabel(\"24 hours\")\n",
    "plt.ylabel(\"rending times\")\n",
    "plt.title(\"The Distribution of Use of Bikes in a Day\")\n",
    "xmf=mdates.DateFormatter('%H:%M')\n",
    "ax.xaxis.set_major_formatter(xmf)"
   ]
  },
  {
   "cell_type": "markdown",
   "metadata": {},
   "source": [
    "The riding duration of users"
   ]
  },
  {
   "cell_type": "code",
   "execution_count": 76,
   "metadata": {},
   "outputs": [
    {
     "data": {
      "text/plain": [
       "([<matplotlib.axis.XTick at 0x2b638cf7240>,\n",
       "  <matplotlib.axis.XTick at 0x2b639c740f0>,\n",
       "  <matplotlib.axis.XTick at 0x2b639b4a390>,\n",
       "  <matplotlib.axis.XTick at 0x2b6649bdd30>,\n",
       "  <matplotlib.axis.XTick at 0x2b6649bd358>,\n",
       "  <matplotlib.axis.XTick at 0x2b6649a36d8>],\n",
       " <a list of 6 Text xticklabel objects>)"
      ]
     },
     "execution_count": 76,
     "metadata": {},
     "output_type": "execute_result"
    },
    {
     "data": {
      "image/png": "[encoded data removed]",
      "text/plain": [
       "<matplotlib.figure.Figure at 0x2b639b82c18>"
      ]
     },
     "metadata": {},
     "output_type": "display_data"
    }
   ],
   "source": [
    "bins=[0, 300, 600, 1200, 1800, 2700, 2825827]\n",
    "group_tripduration = ['5minutes', '10minutes', '20minutes', '30minutes', '45minutes'\n",
    ", 'longer time']\n",
    "cb1['group_tripduration'] = pd.cut(cb1['tripduration'], bins, labels=group_tripduration)\n",
    "group_minute=cb1.groupby('group_tripduration')['group_tripduration'].agg(len)\n",
    "b=np.array(range(6))\n",
    "plt.bar(b,group_minute,color='#9F713F',alpha=0.8,align='center',edgecolor='white')\n",
    "plt.xlabel(\"The Riding Duration\")\n",
    "plt.ylabel(\"The Riding Times\")\n",
    "plt.legend([\"duration\"],loc=\"right\")\n",
    "plt.xticks(b,('5mins','10mins','20mins','30mins', '45mins','longer')\n",
    ")"
   ]
  }
 ],
 "metadata": {
  "kernelspec": {
   "display_name": "Python 3",
   "language": "python",
   "name": "python3"
  },
  "language_info": {
   "codemirror_mode": {
    "name": "ipython",
    "version": 3
   },
   "file_extension": ".py",
   "mimetype": "text/x-python",
   "name": "python",
   "nbconvert_exporter": "python",
   "pygments_lexer": "ipython3",
   "version": "3.6.2"
  }
 },
 "nbformat": 4,
 "nbformat_minor": 2
}
